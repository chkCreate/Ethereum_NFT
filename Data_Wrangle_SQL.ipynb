{
 "cells": [
  {
   "cell_type": "markdown",
   "metadata": {},
   "source": [
    "# Explore Data"
   ]
  },
  {
   "cell_type": "code",
   "execution_count": 1,
   "metadata": {},
   "outputs": [],
   "source": [
    "# Set up dependencies.\n",
    "import pandas as pd\n",
    "import numpy as np\n",
    "# import sqlite3 as sql\n",
    "\n",
    "from sqlalchemy import create_engine\n",
    "from sqlalchemy import Table, Column, Integer, String, MetaData, ForeignKey\n",
    "from sqlalchemy import inspect\n"
   ]
  },
  {
   "cell_type": "code",
   "execution_count": 2,
   "metadata": {},
   "outputs": [],
   "source": [
    "%load_ext sql"
   ]
  },
  {
   "cell_type": "code",
   "execution_count": 3,
   "metadata": {},
   "outputs": [],
   "source": [
    "# Connect to the database\n",
    "%sql sqlite:///Resources/nfts.sqlite"
   ]
  },
  {
   "cell_type": "code",
   "execution_count": 4,
   "metadata": {
    "scrolled": true
   },
   "outputs": [
    {
     "name": "stdout",
     "output_type": "stream",
     "text": [
      " * sqlite:///Resources/nfts.sqlite\n",
      "Done.\n"
     ]
    },
    {
     "data": {
      "text/html": [
       "<table>\n",
       "    <tr>\n",
       "        <th>event_id</th>\n",
       "        <th>transaction_hash</th>\n",
       "        <th>block_number</th>\n",
       "        <th>nft_address</th>\n",
       "        <th>token_id</th>\n",
       "        <th>from_address</th>\n",
       "        <th>to_address</th>\n",
       "        <th>transaction_value</th>\n",
       "        <th>timestamp</th>\n",
       "    </tr>\n",
       "    <tr>\n",
       "        <td>cd816651-56b2-4ed9-887c-c83de732428d</td>\n",
       "        <td>0x0c73daad5e6946e6b2f1374846d6ba3025d6e6a2569f8af48afef3ed9afda9cb</td>\n",
       "        <td>12936373</td>\n",
       "        <td>0x629A673A8242c2AC4B7B8C5D8735fbeac21A6205</td>\n",
       "        <td>66829341423052781770025301071383202464868633560790161876654769815409366730947</td>\n",
       "        <td>0x25f1d709b329C7349b8209851E90eFa3a7f60178</td>\n",
       "        <td>0xC69b4c6fFDBaF843A0d0588c99E3C67f27069BEa</td>\n",
       "        <td>0</td>\n",
       "        <td>1627776481</td>\n",
       "    </tr>\n",
       "    <tr>\n",
       "        <td>82cc5228-eb80-4e0d-9f6f-e644dec3ab06</td>\n",
       "        <td>0x0c73daad5e6946e6b2f1374846d6ba3025d6e6a2569f8af48afef3ed9afda9cb</td>\n",
       "        <td>12936373</td>\n",
       "        <td>0x629A673A8242c2AC4B7B8C5D8735fbeac21A6205</td>\n",
       "        <td>11985074437117418452738327388593075758931987440713122052342981316185236015007</td>\n",
       "        <td>0x0737E7162C88E9FBB963334e4Bfe6e97447fF811</td>\n",
       "        <td>0xC69b4c6fFDBaF843A0d0588c99E3C67f27069BEa</td>\n",
       "        <td>0</td>\n",
       "        <td>1627776481</td>\n",
       "    </tr>\n",
       "    <tr>\n",
       "        <td>6e1f9cc4-d1df-4a6b-972d-a20765beb326</td>\n",
       "        <td>0x0c73daad5e6946e6b2f1374846d6ba3025d6e6a2569f8af48afef3ed9afda9cb</td>\n",
       "        <td>12936373</td>\n",
       "        <td>0x629A673A8242c2AC4B7B8C5D8735fbeac21A6205</td>\n",
       "        <td>15412203442814369030421421778884674014684548355488500923255538146869415708854</td>\n",
       "        <td>0xA0fEc186c4b3FAd39ca373dFdd52E79C2495F2c3</td>\n",
       "        <td>0xC69b4c6fFDBaF843A0d0588c99E3C67f27069BEa</td>\n",
       "        <td>0</td>\n",
       "        <td>1627776481</td>\n",
       "    </tr>\n",
       "    <tr>\n",
       "        <td>43dc27a7-a72d-4894-809c-e868de05f7ee</td>\n",
       "        <td>0x0c73daad5e6946e6b2f1374846d6ba3025d6e6a2569f8af48afef3ed9afda9cb</td>\n",
       "        <td>12936373</td>\n",
       "        <td>0x629A673A8242c2AC4B7B8C5D8735fbeac21A6205</td>\n",
       "        <td>79938403550295277459138666510302342264236891287319760976806678247245763868855</td>\n",
       "        <td>0x90bE22069560A9bAd99543B4A922d1FE34Ae84E9</td>\n",
       "        <td>0xC69b4c6fFDBaF843A0d0588c99E3C67f27069BEa</td>\n",
       "        <td>0</td>\n",
       "        <td>1627776481</td>\n",
       "    </tr>\n",
       "    <tr>\n",
       "        <td>47b7839b-9b87-442d-b2c1-9ebedcad8e06</td>\n",
       "        <td>0x0c73daad5e6946e6b2f1374846d6ba3025d6e6a2569f8af48afef3ed9afda9cb</td>\n",
       "        <td>12936373</td>\n",
       "        <td>0x629A673A8242c2AC4B7B8C5D8735fbeac21A6205</td>\n",
       "        <td>112371974914298458149787071244286105568673452198111028235900420673970581795924</td>\n",
       "        <td>0xA8E9C42Ebb915EeEC5080B7Bcc5D844475595091</td>\n",
       "        <td>0xC69b4c6fFDBaF843A0d0588c99E3C67f27069BEa</td>\n",
       "        <td>0</td>\n",
       "        <td>1627776481</td>\n",
       "    </tr>\n",
       "    <tr>\n",
       "        <td>aa9cfbfe-e787-4e13-9aef-09fb02468a55</td>\n",
       "        <td>0x0c73daad5e6946e6b2f1374846d6ba3025d6e6a2569f8af48afef3ed9afda9cb</td>\n",
       "        <td>12936373</td>\n",
       "        <td>0x629A673A8242c2AC4B7B8C5D8735fbeac21A6205</td>\n",
       "        <td>100752665375226119179985256967559858656470689297712013555018132473343009345391</td>\n",
       "        <td>0xDaf6ae49094Fde87d4FD3c6D19195e94FB25a069</td>\n",
       "        <td>0xC69b4c6fFDBaF843A0d0588c99E3C67f27069BEa</td>\n",
       "        <td>0</td>\n",
       "        <td>1627776481</td>\n",
       "    </tr>\n",
       "    <tr>\n",
       "        <td>2c6e69bc-29aa-4f46-8c30-b91dc349042e</td>\n",
       "        <td>0x0c73daad5e6946e6b2f1374846d6ba3025d6e6a2569f8af48afef3ed9afda9cb</td>\n",
       "        <td>12936373</td>\n",
       "        <td>0x629A673A8242c2AC4B7B8C5D8735fbeac21A6205</td>\n",
       "        <td>44112634701076365210639413891092920651865783419884027143389898883493529302523</td>\n",
       "        <td>0xA62E90BF944A7f5B57e4C84db343544db4D1d419</td>\n",
       "        <td>0xC69b4c6fFDBaF843A0d0588c99E3C67f27069BEa</td>\n",
       "        <td>0</td>\n",
       "        <td>1627776481</td>\n",
       "    </tr>\n",
       "    <tr>\n",
       "        <td>7de81ec5-bbf6-485c-b804-3f2de2a63b3d</td>\n",
       "        <td>0xe9c8dbd55c37189b68441c408f820ed9a954f8dd75006c162fcae2af72665ae1</td>\n",
       "        <td>12936373</td>\n",
       "        <td>0x1A92f7381B9F03921564a437210bB9396471050C</td>\n",
       "        <td>6554</td>\n",
       "        <td>0x1B64D74bB19C9d657d63E04e01D040b6abbF2108</td>\n",
       "        <td>0x114f1388fAB456c4bA31B1850b244Eedcd024136</td>\n",
       "        <td>0</td>\n",
       "        <td>1627776481</td>\n",
       "    </tr>\n",
       "    <tr>\n",
       "        <td>e9ce8274-2ddd-4bfb-accf-b1da1c42fa5f</td>\n",
       "        <td>0xf6c06191e0af12dd0632bde871b02e8089e0bca301679d3833d4bb6bd6ba973d</td>\n",
       "        <td>12936373</td>\n",
       "        <td>0xb932a70A57673d89f4acfFBE830E8ed7f75Fb9e0</td>\n",
       "        <td>4865</td>\n",
       "        <td>0x8c9F364bf7a56Ed058fc63Ef81c6Cf09c833e656</td>\n",
       "        <td>0x900E7aD1ab18CeBb4c21F71795364E9B636831CA</td>\n",
       "        <td>0</td>\n",
       "        <td>1627776481</td>\n",
       "    </tr>\n",
       "    <tr>\n",
       "        <td>9cc5c9e4-e570-4b93-9731-6ac6c27b01ce</td>\n",
       "        <td>0xefdb2cd352aee3f35684480308dd7aa4cc080f38b60e4ffc96a7f5c4faa2cc7a</td>\n",
       "        <td>12936373</td>\n",
       "        <td>0x06012c8cf97BEaD5deAe237070F9587f8E7A266d</td>\n",
       "        <td>1416156</td>\n",
       "        <td>0x7aB6478CDD77acd0bDe4aD9620C1570cB12504E9</td>\n",
       "        <td>0xAF0b85097971e4149A294f462868DF07ED41cc70</td>\n",
       "        <td>0</td>\n",
       "        <td>1627776481</td>\n",
       "    </tr>\n",
       "</table>"
      ],
      "text/plain": [
       "[('cd816651-56b2-4ed9-887c-c83de732428d', '0x0c73daad5e6946e6b2f1374846d6ba3025d6e6a2569f8af48afef3ed9afda9cb', 12936373, '0x629A673A8242c2AC4B7B8C5D8735fbeac21A6205', '66829341423052781770025301071383202464868633560790161876654769815409366730947', '0x25f1d709b329C7349b8209851E90eFa3a7f60178', '0xC69b4c6fFDBaF843A0d0588c99E3C67f27069BEa', 0, 1627776481),\n",
       " ('82cc5228-eb80-4e0d-9f6f-e644dec3ab06', '0x0c73daad5e6946e6b2f1374846d6ba3025d6e6a2569f8af48afef3ed9afda9cb', 12936373, '0x629A673A8242c2AC4B7B8C5D8735fbeac21A6205', '11985074437117418452738327388593075758931987440713122052342981316185236015007', '0x0737E7162C88E9FBB963334e4Bfe6e97447fF811', '0xC69b4c6fFDBaF843A0d0588c99E3C67f27069BEa', 0, 1627776481),\n",
       " ('6e1f9cc4-d1df-4a6b-972d-a20765beb326', '0x0c73daad5e6946e6b2f1374846d6ba3025d6e6a2569f8af48afef3ed9afda9cb', 12936373, '0x629A673A8242c2AC4B7B8C5D8735fbeac21A6205', '15412203442814369030421421778884674014684548355488500923255538146869415708854', '0xA0fEc186c4b3FAd39ca373dFdd52E79C2495F2c3', '0xC69b4c6fFDBaF843A0d0588c99E3C67f27069BEa', 0, 1627776481),\n",
       " ('43dc27a7-a72d-4894-809c-e868de05f7ee', '0x0c73daad5e6946e6b2f1374846d6ba3025d6e6a2569f8af48afef3ed9afda9cb', 12936373, '0x629A673A8242c2AC4B7B8C5D8735fbeac21A6205', '79938403550295277459138666510302342264236891287319760976806678247245763868855', '0x90bE22069560A9bAd99543B4A922d1FE34Ae84E9', '0xC69b4c6fFDBaF843A0d0588c99E3C67f27069BEa', 0, 1627776481),\n",
       " ('47b7839b-9b87-442d-b2c1-9ebedcad8e06', '0x0c73daad5e6946e6b2f1374846d6ba3025d6e6a2569f8af48afef3ed9afda9cb', 12936373, '0x629A673A8242c2AC4B7B8C5D8735fbeac21A6205', '112371974914298458149787071244286105568673452198111028235900420673970581795924', '0xA8E9C42Ebb915EeEC5080B7Bcc5D844475595091', '0xC69b4c6fFDBaF843A0d0588c99E3C67f27069BEa', 0, 1627776481),\n",
       " ('aa9cfbfe-e787-4e13-9aef-09fb02468a55', '0x0c73daad5e6946e6b2f1374846d6ba3025d6e6a2569f8af48afef3ed9afda9cb', 12936373, '0x629A673A8242c2AC4B7B8C5D8735fbeac21A6205', '100752665375226119179985256967559858656470689297712013555018132473343009345391', '0xDaf6ae49094Fde87d4FD3c6D19195e94FB25a069', '0xC69b4c6fFDBaF843A0d0588c99E3C67f27069BEa', 0, 1627776481),\n",
       " ('2c6e69bc-29aa-4f46-8c30-b91dc349042e', '0x0c73daad5e6946e6b2f1374846d6ba3025d6e6a2569f8af48afef3ed9afda9cb', 12936373, '0x629A673A8242c2AC4B7B8C5D8735fbeac21A6205', '44112634701076365210639413891092920651865783419884027143389898883493529302523', '0xA62E90BF944A7f5B57e4C84db343544db4D1d419', '0xC69b4c6fFDBaF843A0d0588c99E3C67f27069BEa', 0, 1627776481),\n",
       " ('7de81ec5-bbf6-485c-b804-3f2de2a63b3d', '0xe9c8dbd55c37189b68441c408f820ed9a954f8dd75006c162fcae2af72665ae1', 12936373, '0x1A92f7381B9F03921564a437210bB9396471050C', '6554', '0x1B64D74bB19C9d657d63E04e01D040b6abbF2108', '0x114f1388fAB456c4bA31B1850b244Eedcd024136', 0, 1627776481),\n",
       " ('e9ce8274-2ddd-4bfb-accf-b1da1c42fa5f', '0xf6c06191e0af12dd0632bde871b02e8089e0bca301679d3833d4bb6bd6ba973d', 12936373, '0xb932a70A57673d89f4acfFBE830E8ed7f75Fb9e0', '4865', '0x8c9F364bf7a56Ed058fc63Ef81c6Cf09c833e656', '0x900E7aD1ab18CeBb4c21F71795364E9B636831CA', 0, 1627776481),\n",
       " ('9cc5c9e4-e570-4b93-9731-6ac6c27b01ce', '0xefdb2cd352aee3f35684480308dd7aa4cc080f38b60e4ffc96a7f5c4faa2cc7a', 12936373, '0x06012c8cf97BEaD5deAe237070F9587f8E7A266d', '1416156', '0x7aB6478CDD77acd0bDe4aD9620C1570cB12504E9', '0xAF0b85097971e4149A294f462868DF07ED41cc70', 0, 1627776481)]"
      ]
     },
     "execution_count": 4,
     "metadata": {},
     "output_type": "execute_result"
    }
   ],
   "source": [
    "%sql SELECT * FROM transfers limit 10"
   ]
  },
  {
   "cell_type": "code",
   "execution_count": 5,
   "metadata": {},
   "outputs": [
    {
     "name": "stdout",
     "output_type": "stream",
     "text": [
      " * sqlite:///Resources/nfts.sqlite\n",
      "Done.\n"
     ]
    },
    {
     "data": {
      "text/html": [
       "<table>\n",
       "    <tr>\n",
       "        <th>event_id</th>\n",
       "        <th>transaction_hash</th>\n",
       "        <th>block_number</th>\n",
       "        <th>nft_address</th>\n",
       "        <th>token_id</th>\n",
       "        <th>from_address</th>\n",
       "        <th>to_address</th>\n",
       "        <th>transaction_value</th>\n",
       "        <th>timestamp</th>\n",
       "    </tr>\n",
       "    <tr>\n",
       "        <td>6c6d226e-2096-4b50-ac3f-f7078ca3a0c2</td>\n",
       "        <td>0xe47ac62111db3a6de2957394944501feb7d55cbef00a8e8da4d74e4ad90cf685</td>\n",
       "        <td>12936415</td>\n",
       "        <td>0x02AA731631c6D7F8241d74F906f5b51724Ab98F8</td>\n",
       "        <td>3223</td>\n",
       "        <td>0x0000000000000000000000000000000000000000</td>\n",
       "        <td>0x8D745Fb3311cC86ED52C177dA0d039C1862F3e13</td>\n",
       "        <td>0</td>\n",
       "        <td>1627776933</td>\n",
       "    </tr>\n",
       "    <tr>\n",
       "        <td>263c923f-4db9-4d81-a547-27e1fe5ec405</td>\n",
       "        <td>0xe47ac62111db3a6de2957394944501feb7d55cbef00a8e8da4d74e4ad90cf685</td>\n",
       "        <td>12936415</td>\n",
       "        <td>0x02AA731631c6D7F8241d74F906f5b51724Ab98F8</td>\n",
       "        <td>5077</td>\n",
       "        <td>0x0000000000000000000000000000000000000000</td>\n",
       "        <td>0x8D745Fb3311cC86ED52C177dA0d039C1862F3e13</td>\n",
       "        <td>0</td>\n",
       "        <td>1627776933</td>\n",
       "    </tr>\n",
       "    <tr>\n",
       "        <td>8baa8502-42f9-453e-824a-ad504045c9c5</td>\n",
       "        <td>0xe47ac62111db3a6de2957394944501feb7d55cbef00a8e8da4d74e4ad90cf685</td>\n",
       "        <td>12936415</td>\n",
       "        <td>0x02AA731631c6D7F8241d74F906f5b51724Ab98F8</td>\n",
       "        <td>5070</td>\n",
       "        <td>0x0000000000000000000000000000000000000000</td>\n",
       "        <td>0x8D745Fb3311cC86ED52C177dA0d039C1862F3e13</td>\n",
       "        <td>0</td>\n",
       "        <td>1627776933</td>\n",
       "    </tr>\n",
       "    <tr>\n",
       "        <td>364ee658-ff31-4d0a-a7a7-60d3d7822772</td>\n",
       "        <td>0xe47ac62111db3a6de2957394944501feb7d55cbef00a8e8da4d74e4ad90cf685</td>\n",
       "        <td>12936415</td>\n",
       "        <td>0x02AA731631c6D7F8241d74F906f5b51724Ab98F8</td>\n",
       "        <td>3757</td>\n",
       "        <td>0x0000000000000000000000000000000000000000</td>\n",
       "        <td>0x8D745Fb3311cC86ED52C177dA0d039C1862F3e13</td>\n",
       "        <td>0</td>\n",
       "        <td>1627776933</td>\n",
       "    </tr>\n",
       "    <tr>\n",
       "        <td>58d3adc3-03d2-4e7b-b02c-47957c1f5752</td>\n",
       "        <td>0xd44be17c0298717ce001843069b0a2ca08b577fa2b336ed4b51542f5db84487a</td>\n",
       "        <td>12936414</td>\n",
       "        <td>0x57f1887a8BF19b14fC0dF6Fd9B2acc9Af147eA85</td>\n",
       "        <td>32522027714413876739176050477696198013759836646709501779582362770707261719752</td>\n",
       "        <td>0x0000000000000000000000000000000000000000</td>\n",
       "        <td>0x283Af0B28c62C092C9727F1Ee09c02CA627EB7F5</td>\n",
       "        <td>2251725644794058</td>\n",
       "        <td>1627776925</td>\n",
       "    </tr>\n",
       "    <tr>\n",
       "        <td>86a787d3-f60b-4a60-a197-c4afac308d7a</td>\n",
       "        <td>0x2526fa548f4de7f477d4de51814432f2d3d64c1e5eae12c3c274e8c17d42d8fa</td>\n",
       "        <td>12936414</td>\n",
       "        <td>0xdf9Aa1012Fa49DC1d2a306e3e65EF1797d2b5fBb</td>\n",
       "        <td>1096</td>\n",
       "        <td>0x0000000000000000000000000000000000000000</td>\n",
       "        <td>0x2448681d0E9D10160f291f90F7DFC1cc67fd9E7B</td>\n",
       "        <td>0</td>\n",
       "        <td>1627776925</td>\n",
       "    </tr>\n",
       "    <tr>\n",
       "        <td>05660bc3-f929-45b9-90e6-54e96fc742d7</td>\n",
       "        <td>0xe29d9a2d602dfcc81c0e599ca9742c9a6071fc21d2a15873d8a6a24f618dee58</td>\n",
       "        <td>12936413</td>\n",
       "        <td>0xdf9Aa1012Fa49DC1d2a306e3e65EF1797d2b5fBb</td>\n",
       "        <td>1094</td>\n",
       "        <td>0x0000000000000000000000000000000000000000</td>\n",
       "        <td>0x2448681d0E9D10160f291f90F7DFC1cc67fd9E7B</td>\n",
       "        <td>0</td>\n",
       "        <td>1627776923</td>\n",
       "    </tr>\n",
       "    <tr>\n",
       "        <td>dfb04e18-c3de-45a7-b029-7d58a4a6c57c</td>\n",
       "        <td>0x7a54a15f048cd8d8e15b01fe0d22683ad3fa62bdd9d8ce19a70974a992731e63</td>\n",
       "        <td>12936412</td>\n",
       "        <td>0x02AA731631c6D7F8241d74F906f5b51724Ab98F8</td>\n",
       "        <td>161</td>\n",
       "        <td>0x0000000000000000000000000000000000000000</td>\n",
       "        <td>0xd397E4a615C7B4aCF239E8434308021B5EaAb88c</td>\n",
       "        <td>0</td>\n",
       "        <td>1627776905</td>\n",
       "    </tr>\n",
       "    <tr>\n",
       "        <td>7d6c0cf9-4057-439c-b309-4d3701f4b8d1</td>\n",
       "        <td>0x27fbc5512ad6a6b6f36ee4d71c639ec284b84b09a0035d0c0d904a001ee7ff0b</td>\n",
       "        <td>12936412</td>\n",
       "        <td>0x1808CB10ad0DC7bB891eFbAD883da63ebF0e110C</td>\n",
       "        <td>4067</td>\n",
       "        <td>0x0000000000000000000000000000000000000000</td>\n",
       "        <td>0xDE16DF6abaD7F579C1368C7233e06a71f76B27E4</td>\n",
       "        <td>30000000000000000</td>\n",
       "        <td>1627776905</td>\n",
       "    </tr>\n",
       "    <tr>\n",
       "        <td>4d14cb62-48b5-4cb7-a411-77afd31ba23e</td>\n",
       "        <td>0xf584379502d2f5cf31ab1b7e2848072e2b5ad2a9cc64ae1690ca97ac7eef1800</td>\n",
       "        <td>12936412</td>\n",
       "        <td>0xd0A07a76746707f6D6d36D9d5897B14a8e9ED493</td>\n",
       "        <td>2122</td>\n",
       "        <td>0x0000000000000000000000000000000000000000</td>\n",
       "        <td>0x4555CBc05d168f29C933677c71f8c1f1cF59Fa69</td>\n",
       "        <td>0</td>\n",
       "        <td>1627776905</td>\n",
       "    </tr>\n",
       "</table>"
      ],
      "text/plain": [
       "[('6c6d226e-2096-4b50-ac3f-f7078ca3a0c2', '0xe47ac62111db3a6de2957394944501feb7d55cbef00a8e8da4d74e4ad90cf685', 12936415, '0x02AA731631c6D7F8241d74F906f5b51724Ab98F8', '3223', '0x0000000000000000000000000000000000000000', '0x8D745Fb3311cC86ED52C177dA0d039C1862F3e13', 0, 1627776933),\n",
       " ('263c923f-4db9-4d81-a547-27e1fe5ec405', '0xe47ac62111db3a6de2957394944501feb7d55cbef00a8e8da4d74e4ad90cf685', 12936415, '0x02AA731631c6D7F8241d74F906f5b51724Ab98F8', '5077', '0x0000000000000000000000000000000000000000', '0x8D745Fb3311cC86ED52C177dA0d039C1862F3e13', 0, 1627776933),\n",
       " ('8baa8502-42f9-453e-824a-ad504045c9c5', '0xe47ac62111db3a6de2957394944501feb7d55cbef00a8e8da4d74e4ad90cf685', 12936415, '0x02AA731631c6D7F8241d74F906f5b51724Ab98F8', '5070', '0x0000000000000000000000000000000000000000', '0x8D745Fb3311cC86ED52C177dA0d039C1862F3e13', 0, 1627776933),\n",
       " ('364ee658-ff31-4d0a-a7a7-60d3d7822772', '0xe47ac62111db3a6de2957394944501feb7d55cbef00a8e8da4d74e4ad90cf685', 12936415, '0x02AA731631c6D7F8241d74F906f5b51724Ab98F8', '3757', '0x0000000000000000000000000000000000000000', '0x8D745Fb3311cC86ED52C177dA0d039C1862F3e13', 0, 1627776933),\n",
       " ('58d3adc3-03d2-4e7b-b02c-47957c1f5752', '0xd44be17c0298717ce001843069b0a2ca08b577fa2b336ed4b51542f5db84487a', 12936414, '0x57f1887a8BF19b14fC0dF6Fd9B2acc9Af147eA85', '32522027714413876739176050477696198013759836646709501779582362770707261719752', '0x0000000000000000000000000000000000000000', '0x283Af0B28c62C092C9727F1Ee09c02CA627EB7F5', 2251725644794058, 1627776925),\n",
       " ('86a787d3-f60b-4a60-a197-c4afac308d7a', '0x2526fa548f4de7f477d4de51814432f2d3d64c1e5eae12c3c274e8c17d42d8fa', 12936414, '0xdf9Aa1012Fa49DC1d2a306e3e65EF1797d2b5fBb', '1096', '0x0000000000000000000000000000000000000000', '0x2448681d0E9D10160f291f90F7DFC1cc67fd9E7B', 0, 1627776925),\n",
       " ('05660bc3-f929-45b9-90e6-54e96fc742d7', '0xe29d9a2d602dfcc81c0e599ca9742c9a6071fc21d2a15873d8a6a24f618dee58', 12936413, '0xdf9Aa1012Fa49DC1d2a306e3e65EF1797d2b5fBb', '1094', '0x0000000000000000000000000000000000000000', '0x2448681d0E9D10160f291f90F7DFC1cc67fd9E7B', 0, 1627776923),\n",
       " ('dfb04e18-c3de-45a7-b029-7d58a4a6c57c', '0x7a54a15f048cd8d8e15b01fe0d22683ad3fa62bdd9d8ce19a70974a992731e63', 12936412, '0x02AA731631c6D7F8241d74F906f5b51724Ab98F8', '161', '0x0000000000000000000000000000000000000000', '0xd397E4a615C7B4aCF239E8434308021B5EaAb88c', 0, 1627776905),\n",
       " ('7d6c0cf9-4057-439c-b309-4d3701f4b8d1', '0x27fbc5512ad6a6b6f36ee4d71c639ec284b84b09a0035d0c0d904a001ee7ff0b', 12936412, '0x1808CB10ad0DC7bB891eFbAD883da63ebF0e110C', '4067', '0x0000000000000000000000000000000000000000', '0xDE16DF6abaD7F579C1368C7233e06a71f76B27E4', 30000000000000000, 1627776905),\n",
       " ('4d14cb62-48b5-4cb7-a411-77afd31ba23e', '0xf584379502d2f5cf31ab1b7e2848072e2b5ad2a9cc64ae1690ca97ac7eef1800', 12936412, '0xd0A07a76746707f6D6d36D9d5897B14a8e9ED493', '2122', '0x0000000000000000000000000000000000000000', '0x4555CBc05d168f29C933677c71f8c1f1cF59Fa69', 0, 1627776905)]"
      ]
     },
     "execution_count": 5,
     "metadata": {},
     "output_type": "execute_result"
    }
   ],
   "source": [
    "%sql SELECT * FROM mints limit 10"
   ]
  },
  {
   "cell_type": "code",
   "execution_count": 6,
   "metadata": {},
   "outputs": [
    {
     "name": "stdout",
     "output_type": "stream",
     "text": [
      " * sqlite:///Resources/nfts.sqlite\n",
      "Done.\n"
     ]
    },
    {
     "data": {
      "text/html": [
       "<table>\n",
       "    <tr>\n",
       "        <th>nft_address</th>\n",
       "        <th>token_id</th>\n",
       "        <th>market_value</th>\n",
       "    </tr>\n",
       "    <tr>\n",
       "        <td>0x00000000000b7F8E8E8Ad148f9d53303Bfe20796</td>\n",
       "        <td>0</td>\n",
       "        <td>30000000000000000</td>\n",
       "    </tr>\n",
       "    <tr>\n",
       "        <td>0x00000000000b7F8E8E8Ad148f9d53303Bfe20796</td>\n",
       "        <td>1</td>\n",
       "        <td>150000000000000000</td>\n",
       "    </tr>\n",
       "    <tr>\n",
       "        <td>0x00000000000b7F8E8E8Ad148f9d53303Bfe20796</td>\n",
       "        <td>10</td>\n",
       "        <td>150000000000000000</td>\n",
       "    </tr>\n",
       "    <tr>\n",
       "        <td>0x00000000000b7F8E8E8Ad148f9d53303Bfe20796</td>\n",
       "        <td>11</td>\n",
       "        <td>30000000000000000</td>\n",
       "    </tr>\n",
       "    <tr>\n",
       "        <td>0x00000000000b7F8E8E8Ad148f9d53303Bfe20796</td>\n",
       "        <td>12</td>\n",
       "        <td>90000000000000000</td>\n",
       "    </tr>\n",
       "</table>"
      ],
      "text/plain": [
       "[('0x00000000000b7F8E8E8Ad148f9d53303Bfe20796', '0', 30000000000000000),\n",
       " ('0x00000000000b7F8E8E8Ad148f9d53303Bfe20796', '1', 150000000000000000),\n",
       " ('0x00000000000b7F8E8E8Ad148f9d53303Bfe20796', '10', 150000000000000000),\n",
       " ('0x00000000000b7F8E8E8Ad148f9d53303Bfe20796', '11', 30000000000000000),\n",
       " ('0x00000000000b7F8E8E8Ad148f9d53303Bfe20796', '12', 90000000000000000)]"
      ]
     },
     "execution_count": 6,
     "metadata": {},
     "output_type": "execute_result"
    }
   ],
   "source": [
    "%sql SELECT * FROM current_market_values limit 5"
   ]
  },
  {
   "cell_type": "code",
   "execution_count": 14,
   "metadata": {
    "scrolled": true
   },
   "outputs": [
    {
     "ename": "SyntaxError",
     "evalue": "invalid syntax (<ipython-input-14-35dff2434db9>, line 6)",
     "output_type": "error",
     "traceback": [
      "\u001b[1;36m  File \u001b[1;32m\"<ipython-input-14-35dff2434db9>\"\u001b[1;36m, line \u001b[1;32m6\u001b[0m\n\u001b[1;33m    (market_value / (10**(-18)) market_value_Eth)\u001b[0m\n\u001b[1;37m                                               ^\u001b[0m\n\u001b[1;31mSyntaxError\u001b[0m\u001b[1;31m:\u001b[0m invalid syntax\n"
     ]
    }
   ],
   "source": [
    "%sql sqlite://\n",
    "SELECT \n",
    "nft_address,\n",
    "token_id, \n",
    "market_value, \n",
    "(market_value / (10**(-18)) market_value_Eth) \n",
    "FROM current_market_values\n",
    "limit 10"
   ]
  },
  {
   "cell_type": "code",
   "execution_count": 15,
   "metadata": {},
   "outputs": [
    {
     "ename": "SyntaxError",
     "evalue": "invalid syntax (<ipython-input-15-88f5635b3ee8>, line 3)",
     "output_type": "error",
     "traceback": [
      "\u001b[1;36m  File \u001b[1;32m\"<ipython-input-15-88f5635b3ee8>\"\u001b[1;36m, line \u001b[1;32m3\u001b[0m\n\u001b[1;33m    t.*,\u001b[0m\n\u001b[1;37m      ^\u001b[0m\n\u001b[1;31mSyntaxError\u001b[0m\u001b[1;31m:\u001b[0m invalid syntax\n"
     ]
    }
   ],
   "source": [
    "%sql sqlite://\n",
    "SELECT \n",
    "t.*,\n",
    "cmv.market_value\n",
    "FROM transfers t \n",
    "JOIN current_market_values cmv \n",
    "ON t.token_id = cmv.token_id \n",
    "limit 10\n"
   ]
  },
  {
   "cell_type": "code",
   "execution_count": null,
   "metadata": {},
   "outputs": [],
   "source": []
  }
 ],
 "metadata": {
  "interpreter": {
   "hash": "ff05f6212b84557d4f1e1e97104cf9551b1ad0626fd8da6d7046c8eac9cacf35"
  },
  "kernelspec": {
   "display_name": "Python 3",
   "language": "python",
   "name": "python3"
  },
  "language_info": {
   "codemirror_mode": {
    "name": "ipython",
    "version": 3
   },
   "file_extension": ".py",
   "mimetype": "text/x-python",
   "name": "python",
   "nbconvert_exporter": "python",
   "pygments_lexer": "ipython3",
   "version": "3.7.9"
  }
 },
 "nbformat": 4,
 "nbformat_minor": 2
}
